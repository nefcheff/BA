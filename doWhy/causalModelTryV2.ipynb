{
 "cells": [
  {
   "cell_type": "code",
   "execution_count": 25,
   "id": "9e842089",
   "metadata": {},
   "outputs": [],
   "source": [
    "from dowhy import CausalModel\n",
    "import pandas as pd\n",
    "import networkx as nx\n",
    "import warnings\n",
    "warnings.simplefilter(action='ignore', category=FutureWarning)"
   ]
  },
  {
   "cell_type": "code",
   "execution_count": 20,
   "id": "6b8e7e8d",
   "metadata": {},
   "outputs": [],
   "source": [
    "# 1) Daten einlesen\n",
    "path_validation = r\"..\\syntheticData\\RealDataMerged\\mergedManupulated.xlsx\"\n",
    "data_input = pd.read_excel(path_validation)"
   ]
  },
  {
   "cell_type": "code",
   "execution_count": 22,
   "id": "4b2f7adb",
   "metadata": {},
   "outputs": [],
   "source": [
    "# 2) CausalModel aufsetzen\n",
    "G = nx.DiGraph()\n",
    "edges = [\n",
    "    (\"Rüstzeit\", \"Rüst- Bearbeitungszeit\"),\n",
    "    (\"Bearbeitungszeit\", \"Rüst- Bearbeitungszeit\"),\n",
    "    (\"Rüst- Bearbeitungszeit\", \"Soll/Ist Durchlaufszeit(t)\"),\n",
    "    (\"Soll/Ist Durchlaufszeit(t)\", \"Abweichung (Tage)\"),\n",
    "    (\"DurchlaufszeitSoll(t)\", \"Abweichung (Tage)\"),\n",
    "    (\"Abweichung (Tage)\", \"Termintreue\")\n",
    "]\n",
    "\n",
    "G.add_edges_from(edges)\n",
    "\n",
    "model = CausalModel(\n",
    "    data=data_input,\n",
    "    treatment=\"DurchlaufszeitSoll(t)\",\n",
    "    outcome=\"Termintreue\",\n",
    "    graph=G\n",
    ")\n"
   ]
  },
  {
   "cell_type": "code",
   "execution_count": 24,
   "id": "6f65a150",
   "metadata": {},
   "outputs": [
    {
     "name": "stdout",
     "output_type": "stream",
     "text": [
      "Estimand type: EstimandType.NONPARAMETRIC_ATE\n",
      "\n",
      "### Estimand : 1\n",
      "Estimand name: backdoor\n",
      "Estimand expression:\n",
      "           d                            \n",
      "────────────────────────(E[Termintreue])\n",
      "d[DurchlaufszeitSoll(t)]                \n",
      "Estimand assumption 1, Unconfoundedness: If U→{DurchlaufszeitSoll(t)} and U→Termintreue then P(Termintreue|DurchlaufszeitSoll(t),,U) = P(Termintreue|DurchlaufszeitSoll(t),)\n",
      "\n",
      "### Estimand : 2\n",
      "Estimand name: iv\n",
      "No such variable(s) found!\n",
      "\n",
      "### Estimand : 3\n",
      "Estimand name: frontdoor\n",
      "Estimand expression:\n",
      " ⎡         d                                   d                               ↪\n",
      "E⎢────────────────────(Termintreue)⋅────────────────────────([Abweichung (Tage ↪\n",
      " ⎣d[Abweichung (Tage)]              d[DurchlaufszeitSoll(t)]                   ↪\n",
      "\n",
      "↪    ⎤\n",
      "↪ )])⎥\n",
      "↪    ⎦\n",
      "Estimand assumption 1, Full-mediation: Abweichung (Tage) intercepts (blocks) all directed paths from DurchlaufszeitSoll(t) to T,e,r,m,i,n,t,r,e,u,e.\n",
      "Estimand assumption 2, First-stage-unconfoundedness: If U→{DurchlaufszeitSoll(t)} and U→{Abweichung (Tage)} then P(Abweichung (Tage)|DurchlaufszeitSoll(t),U) = P(Abweichung (Tage)|DurchlaufszeitSoll(t))\n",
      "Estimand assumption 3, Second-stage-unconfoundedness: If U→{Abweichung (Tage)} and U→Termintreue then P(Termintreue|Abweichung (Tage), DurchlaufszeitSoll(t), U) = P(Termintreue|Abweichung (Tage), DurchlaufszeitSoll(t))\n",
      "\n",
      "Estimated effect: -0.0017247012757206637\n"
     ]
    }
   ],
   "source": [
    "# 3) Identifizieren und schätzen\n",
    "estimand = model.identify_effect()\n",
    "print(estimand)\n",
    "\n",
    "estimate = model.estimate_effect(\n",
    "    estimand,\n",
    "    method_name=\"backdoor.linear_regression\"\n",
    ")\n",
    "print(\"Estimated effect:\", estimate.value)"
   ]
  },
  {
   "cell_type": "code",
   "execution_count": 27,
   "id": "b63db979",
   "metadata": {},
   "outputs": [
    {
     "name": "stdout",
     "output_type": "stream",
     "text": [
      "Refute: Use a Placebo Treatment\n",
      "Estimated effect:-0.0017247012757206637\n",
      "New effect:4.917304279738355e-05\n",
      "p value:0.9199999999999999\n",
      "\n"
     ]
    }
   ],
   "source": [
    "# 5) Refutation (Placebo)\n",
    "refute = model.refute_estimate(\n",
    "    estimand, estimate,\n",
    "    method_name=\"placebo_treatment_refuter\",\n",
    "    placebo_type=\"permute\"\n",
    ")\n",
    "print(refute)"
   ]
  }
 ],
 "metadata": {
  "kernelspec": {
   "display_name": ".venv",
   "language": "python",
   "name": "python3"
  },
  "language_info": {
   "codemirror_mode": {
    "name": "ipython",
    "version": 3
   },
   "file_extension": ".py",
   "mimetype": "text/x-python",
   "name": "python",
   "nbconvert_exporter": "python",
   "pygments_lexer": "ipython3",
   "version": "3.12.1"
  }
 },
 "nbformat": 4,
 "nbformat_minor": 5
}
