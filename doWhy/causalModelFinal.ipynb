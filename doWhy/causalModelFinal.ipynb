{
 "cells": [
  {
   "cell_type": "markdown",
   "id": "002f86ae",
   "metadata": {},
   "source": [
    "## Validierung von DAG\n",
    "**Zielsetzung:**\n",
    "Dieses Notebook prüft, ob idendifizierte Zusammenhäng zwischen Variablen empirisch gestützt werden können.\n",
    "Die verwendeten Teilmodelle basieren auf dem in Kapitel 4.4 entwickelten DAG. Die hier entwickelten Graphen zeigt alle Knoten, die auf Basis des validierten Datensatzes empirisch zugänglich waren.\n",
    "Mittels DoWhy wird überprüft, ob ein identifizierbarer Backdoor-Pfad zwischen Treatment und Outcome vorliegt.\n",
    "Die Schätzung erfolgt mithilfe linearer Regression. Der Effektwert wird im Anschluss interpretiert. \n",
    "Zum abschluss wird die Aussagekraft des geschätzten Effekt für beide Modelle mittels verschiedenen Refutern überprüfung.\n",
    "\n",
    "### Aufbau des Notebooks\n",
    "- **1) Modellstrukturierung** \n",
    "\n",
    "- **2) Identifikation**\n",
    "\n",
    "- **3) Schätzung**\n",
    "\n",
    "- **4) Robustheitsprüfung**\n",
    "\n",
    "- **5) Zusammenfassung**\n",
    "\n"
   ]
  },
  {
   "cell_type": "code",
   "execution_count": 3,
   "id": "9e842089",
   "metadata": {},
   "outputs": [],
   "source": [
    "from dowhy import CausalModel\n",
    "import pandas as pd\n",
    "import networkx as nx\n",
    "import warnings\n",
    "warnings.simplefilter(action='ignore', category=FutureWarning)"
   ]
  },
  {
   "cell_type": "code",
   "execution_count": 4,
   "id": "6b8e7e8d",
   "metadata": {},
   "outputs": [
    {
     "data": {
      "text/html": [
       "<div>\n",
       "<style scoped>\n",
       "    .dataframe tbody tr th:only-of-type {\n",
       "        vertical-align: middle;\n",
       "    }\n",
       "\n",
       "    .dataframe tbody tr th {\n",
       "        vertical-align: top;\n",
       "    }\n",
       "\n",
       "    .dataframe thead th {\n",
       "        text-align: right;\n",
       "    }\n",
       "</style>\n",
       "<table border=\"1\" class=\"dataframe\">\n",
       "  <thead>\n",
       "    <tr style=\"text-align: right;\">\n",
       "      <th></th>\n",
       "      <th>FANummer</th>\n",
       "      <th>Menge</th>\n",
       "      <th>OperationNo</th>\n",
       "      <th>DurchlaufszeitIst(t)</th>\n",
       "      <th>Rüst-Bearbeitungszeit(h)</th>\n",
       "      <th>Rüstzeit(h)</th>\n",
       "      <th>Bearbeitungszeit(h)</th>\n",
       "      <th>DurchlaufszeitSoll(t)</th>\n",
       "      <th>Soll/Ist Durchlaufszeit(t)</th>\n",
       "      <th>Abweichung (Tage)</th>\n",
       "      <th>Termintreue</th>\n",
       "    </tr>\n",
       "  </thead>\n",
       "  <tbody>\n",
       "    <tr>\n",
       "      <th>0</th>\n",
       "      <td>FA1112305</td>\n",
       "      <td>21</td>\n",
       "      <td>20</td>\n",
       "      <td>34.00</td>\n",
       "      <td>1.93</td>\n",
       "      <td>1.62</td>\n",
       "      <td>0.32</td>\n",
       "      <td>9</td>\n",
       "      <td>-25.00</td>\n",
       "      <td>5</td>\n",
       "      <td>1</td>\n",
       "    </tr>\n",
       "    <tr>\n",
       "      <th>1</th>\n",
       "      <td>FA1114090</td>\n",
       "      <td>300</td>\n",
       "      <td>21</td>\n",
       "      <td>33.17</td>\n",
       "      <td>0.87</td>\n",
       "      <td>0.52</td>\n",
       "      <td>0.35</td>\n",
       "      <td>13</td>\n",
       "      <td>-20.17</td>\n",
       "      <td>1</td>\n",
       "      <td>1</td>\n",
       "    </tr>\n",
       "    <tr>\n",
       "      <th>2</th>\n",
       "      <td>FA1114511</td>\n",
       "      <td>36</td>\n",
       "      <td>22</td>\n",
       "      <td>25.04</td>\n",
       "      <td>27.75</td>\n",
       "      <td>0.30</td>\n",
       "      <td>27.45</td>\n",
       "      <td>13</td>\n",
       "      <td>-12.04</td>\n",
       "      <td>0</td>\n",
       "      <td>0</td>\n",
       "    </tr>\n",
       "    <tr>\n",
       "      <th>3</th>\n",
       "      <td>FA1114659</td>\n",
       "      <td>50</td>\n",
       "      <td>20</td>\n",
       "      <td>22.32</td>\n",
       "      <td>0.97</td>\n",
       "      <td>0.35</td>\n",
       "      <td>0.62</td>\n",
       "      <td>25</td>\n",
       "      <td>2.68</td>\n",
       "      <td>0</td>\n",
       "      <td>0</td>\n",
       "    </tr>\n",
       "    <tr>\n",
       "      <th>4</th>\n",
       "      <td>FA1114659</td>\n",
       "      <td>50</td>\n",
       "      <td>40</td>\n",
       "      <td>21.32</td>\n",
       "      <td>4.18</td>\n",
       "      <td>0.73</td>\n",
       "      <td>3.45</td>\n",
       "      <td>25</td>\n",
       "      <td>3.68</td>\n",
       "      <td>0</td>\n",
       "      <td>0</td>\n",
       "    </tr>\n",
       "  </tbody>\n",
       "</table>\n",
       "</div>"
      ],
      "text/plain": [
       "    FANummer  Menge  OperationNo  DurchlaufszeitIst(t)  \\\n",
       "0  FA1112305     21           20                 34.00   \n",
       "1  FA1114090    300           21                 33.17   \n",
       "2  FA1114511     36           22                 25.04   \n",
       "3  FA1114659     50           20                 22.32   \n",
       "4  FA1114659     50           40                 21.32   \n",
       "\n",
       "   Rüst-Bearbeitungszeit(h)  Rüstzeit(h)  Bearbeitungszeit(h)  \\\n",
       "0                      1.93         1.62                 0.32   \n",
       "1                      0.87         0.52                 0.35   \n",
       "2                     27.75         0.30                27.45   \n",
       "3                      0.97         0.35                 0.62   \n",
       "4                      4.18         0.73                 3.45   \n",
       "\n",
       "   DurchlaufszeitSoll(t)  Soll/Ist Durchlaufszeit(t)  Abweichung (Tage)  \\\n",
       "0                      9                      -25.00                  5   \n",
       "1                     13                      -20.17                  1   \n",
       "2                     13                      -12.04                  0   \n",
       "3                     25                        2.68                  0   \n",
       "4                     25                        3.68                  0   \n",
       "\n",
       "   Termintreue  \n",
       "0            1  \n",
       "1            1  \n",
       "2            0  \n",
       "3            0  \n",
       "4            0  "
      ]
     },
     "metadata": {},
     "output_type": "display_data"
    }
   ],
   "source": [
    "# Daten einlesen\n",
    "# Datenquelle: konsolidierter Validierungsdatensatz aus Abschnitt 4.5.1\n",
    "path_validation = r\"..\\syntheticData\\RealDataMerged\\mergedManupulated.xlsx\"\n",
    "data_input = pd.read_excel(path_validation)\n",
    "display(data_input.head(5))"
   ]
  },
  {
   "cell_type": "markdown",
   "id": "f1b39370",
   "metadata": {},
   "source": [
    "## 1) CausalModel Aufsetzen\n",
    "Auf Basis der in Abschnitt 4.5.1 Argumentierten entscheidungslogik werden zwei Modelle aufsetzten \n",
    "\n",
    "    Fertigungsaufträge\n",
    "    Arbeitgängen\n",
    "\n",
    "diese dienen zur untersuchung auf den gegebenen zwei Niveaus.\n",
    "\n",
    "\n",
    "\n",
    "#### 1.1) CausalModel für Fertigungsaufträge aufsetzen"
   ]
  },
  {
   "cell_type": "code",
   "execution_count": 5,
   "id": "4b2f7adb",
   "metadata": {},
   "outputs": [],
   "source": [
    "#Kausalmodel mit Knoten und den jeweiligen Kanten definieren\n",
    "G_Fertigungsauftrag = nx.DiGraph()\n",
    "edges = [\n",
    "    (\"DurchlaufszeitSoll(t)\", \"Abweichung (Tage)\"),\n",
    "    (\"Abweichung (Tage)\", \"Termintreue\")\n",
    "]\n",
    "G_Fertigungsauftrag.add_edges_from(edges)"
   ]
  },
  {
   "cell_type": "markdown",
   "id": "26dbccc4",
   "metadata": {},
   "source": [
    "Sicherstellen das Alle Knoten im definierten Graphen `G_Fertigungsauftrag` als Variabel im Datensatzt und Welche Variablen aus dem Datenset nicht verwendet wurden. "
   ]
  },
  {
   "cell_type": "code",
   "execution_count": 6,
   "id": "4e4f7059",
   "metadata": {},
   "outputs": [
    {
     "name": "stdout",
     "output_type": "stream",
     "text": [
      "Fehlende Variablen im Dataframe: set()\n",
      "Fehlende Variablen im Graph: {'OperationNo', 'DurchlaufszeitIst(t)', 'Soll/Ist Durchlaufszeit(t)', 'Bearbeitungszeit(h)', 'Rüst-Bearbeitungszeit(h)', 'Rüstzeit(h)', 'FANummer', 'Menge'}\n"
     ]
    }
   ],
   "source": [
    "# Alle Knoten im Graphen\n",
    "all_graph_variables = set(G_Fertigungsauftrag.nodes)\n",
    "\n",
    "# Alle Spalten im DataFrame\n",
    "all_data_variables = set(data_input.columns)\n",
    "\n",
    "#Fehlende Werte fidnen\n",
    "missing_variables_dataframe = all_graph_variables - all_data_variables\n",
    "missing_variables_graph = all_data_variables - all_graph_variables\n",
    "print(\"Fehlende Variablen im Dataframe:\", missing_variables_dataframe)\n",
    "print(\"Fehlende Variablen im Graph:\", missing_variables_graph)"
   ]
  },
  {
   "cell_type": "code",
   "execution_count": 7,
   "id": "598a6f86",
   "metadata": {},
   "outputs": [],
   "source": [
    "#Model auf Basis von Graphen und zu Indendifizierendendem Pfad aufsetzten\n",
    "model_Fertigungsauftrag = CausalModel(\n",
    "    data=data_input,\n",
    "    treatment=\"DurchlaufszeitSoll(t)\",\n",
    "    outcome=\"Termintreue\",\n",
    "    graph=G_Fertigungsauftrag\n",
    ")"
   ]
  },
  {
   "cell_type": "markdown",
   "id": "ddbac8e4",
   "metadata": {},
   "source": [
    "#### 1.2) CausalModel für Arbeitsgang aufsetzen (vergleichbar zu Prozess aus 2.1)"
   ]
  },
  {
   "cell_type": "code",
   "execution_count": 8,
   "id": "5f249833",
   "metadata": {},
   "outputs": [
    {
     "name": "stdout",
     "output_type": "stream",
     "text": [
      "Fehlende Variablen im Dataframe: set()\n",
      "Fehlende Variablen im Graph: {'Termintreue', 'DurchlaufszeitSoll(t)', 'OperationNo', 'Soll/Ist Durchlaufszeit(t)', 'Menge', 'FANummer', 'Abweichung (Tage)'}\n"
     ]
    }
   ],
   "source": [
    "# 2.2) CausalModel aufsetzen\n",
    "G_Arbeitgang = nx.DiGraph()\n",
    "edges = [\n",
    "    (\"Rüstzeit(h)\", \"Rüst-Bearbeitungszeit(h)\"),\n",
    "    (\"Bearbeitungszeit(h)\", \"Rüst-Bearbeitungszeit(h)\"),\n",
    "    (\"Rüst-Bearbeitungszeit(h)\", \"DurchlaufszeitIst(t)\")\n",
    "]\n",
    "G_Arbeitgang.add_edges_from(edges)\n",
    "\n",
    "# Für Arbeitsgngang Graphen Sicherstellen das alle Knoten im definierten Graphen als Variabel im Datensatzt sind\n",
    "all_graph_variables = set(G_Arbeitgang.nodes)\n",
    "all_data_variables = set(data_input.columns)\n",
    "\n",
    "missing_variables_dataframe = all_graph_variables - all_data_variables\n",
    "missing_variables_graph = all_data_variables - all_graph_variables\n",
    "print(\"Fehlende Variablen im Dataframe:\", missing_variables_dataframe)\n",
    "print(\"Fehlende Variablen im Graph:\", missing_variables_graph)\n",
    "\n",
    "\n",
    "model_Arbeitsgang = CausalModel(\n",
    "    data=data_input,\n",
    "    treatment=\"Rüstzeit(h)\",\n",
    "    outcome=\"DurchlaufszeitIst(t)\",\n",
    "    graph=G_Arbeitgang\n",
    ")"
   ]
  },
  {
   "cell_type": "markdown",
   "id": "010be10d",
   "metadata": {},
   "source": [
    "### kurze Visuelle kontrolle der Beiden Modelle mit view_Model()"
   ]
  },
  {
   "cell_type": "code",
   "execution_count": 9,
   "id": "da3ba977",
   "metadata": {},
   "outputs": [
    {
     "data": {
      "image/png": "[encoded data removed]",
      "text/plain": [
       "<Figure size 800x600 with 1 Axes>"
      ]
     },
     "metadata": {},
     "output_type": "display_data"
    },
    {
     "data": {
      "image/png": "[encoded data removed]",
      "text/plain": [
       "<Figure size 800x600 with 1 Axes>"
      ]
     },
     "metadata": {},
     "output_type": "display_data"
    }
   ],
   "source": [
    "model_Fertigungsauftrag.view_model(file_name=\"GraphModelFertigungsauftrag\")\n",
    "model_Arbeitsgang.view_model(file_name=\"GraphModelArbeitsgang\")"
   ]
  },
  {
   "cell_type": "markdown",
   "id": "9c6a78f2",
   "metadata": {},
   "source": [
    "### 2 Identifikation des kausalen Effekts\n",
    "Im ersten Schritt der Validierung wird geprüft, ob der kausale Effekt der Variable im vorgegebenen Modell identifizierbar sind.\n",
    "\n",
    "`DurchlaufszeitSoll(t)` auf `Termintreue`\n",
    "\n",
    "`Rüstzeit(h)` auf `DurchlaufszeitIst(t)`\n",
    "\n",
    "Dabei generiert DoWhy verschiedene **Estimands**, also rechnerisch ausdrückbare Formen kausaler Effekte unter bestimmten Annahmen."
   ]
  },
  {
   "cell_type": "code",
   "execution_count": null,
   "id": "d2540cbd",
   "metadata": {},
   "outputs": [
    {
     "name": "stdout",
     "output_type": "stream",
     "text": [
      "Estimand type: EstimandType.NONPARAMETRIC_ATE\n",
      "\n",
      "### Estimand : 1\n",
      "Estimand name: backdoor\n",
      "Estimand expression:\n",
      "           d                            \n",
      "────────────────────────(E[Termintreue])\n",
      "d[DurchlaufszeitSoll(t)]                \n",
      "Estimand assumption 1, Unconfoundedness: If U→{DurchlaufszeitSoll(t)} and U→Termintreue then P(Termintreue|DurchlaufszeitSoll(t),,U) = P(Termintreue|DurchlaufszeitSoll(t),)\n",
      "\n",
      "### Estimand : 2\n",
      "Estimand name: iv\n",
      "No such variable(s) found!\n",
      "\n",
      "### Estimand : 3\n",
      "Estimand name: frontdoor\n",
      "Estimand expression:\n",
      " ⎡         d                                   d                               ↪\n",
      "E⎢────────────────────(Termintreue)⋅────────────────────────([Abweichung (Tage ↪\n",
      " ⎣d[Abweichung (Tage)]              d[DurchlaufszeitSoll(t)]                   ↪\n",
      "\n",
      "↪    ⎤\n",
      "↪ )])⎥\n",
      "↪    ⎦\n",
      "Estimand assumption 1, Full-mediation: Abweichung (Tage) intercepts (blocks) all directed paths from DurchlaufszeitSoll(t) to T,e,r,m,i,n,t,r,e,u,e.\n",
      "Estimand assumption 2, First-stage-unconfoundedness: If U→{DurchlaufszeitSoll(t)} and U→{Abweichung (Tage)} then P(Abweichung (Tage)|DurchlaufszeitSoll(t),U) = P(Abweichung (Tage)|DurchlaufszeitSoll(t))\n",
      "Estimand assumption 3, Second-stage-unconfoundedness: If U→{Abweichung (Tage)} and U→Termintreue then P(Termintreue|Abweichung (Tage), DurchlaufszeitSoll(t), U) = P(Termintreue|Abweichung (Tage), DurchlaufszeitSoll(t))\n",
      "\n"
     ]
    }
   ],
   "source": [
    "# Identifizieren von DurchlaufszeitSoll(t) auf Termintreue\n",
    "estimand = model_Fertigungsauftrag.identify_effect()\n",
    "print(estimand)"
   ]
  },
  {
   "cell_type": "markdown",
   "id": "32b334c4",
   "metadata": {},
   "source": [
    "### Identifikation: Modell Fertigungsauftrag\n",
    "\n",
    "Für das Ziel, den kausalen Effekt der geplanten Durchlaufzeit `DurchlaufszeitSoll(t)` auf die Termintreue zu untersuchen, wurden durch DoWhy mehrere theoretisch mögliche Estimands geprüft.\n",
    "\n",
    "Das Framework identifizierte erfolgreich einen **backdoor-Estimand**, welcher es unter der Annahme der Unconfoundedness erlaubt, den durchschnittlichen kausalen Effekt direkt aus beobachtbaren Daten zu schätzen. Das bedeutet, dass alle potenziellen Störgrössen entweder gemessen oder durch den DAG blockiert sind.\n",
    "\n",
    "Zusätzlich wurde ein **frontdoor-Estimand** erkannt, der auf dem Pfad über `Abweichung (Tage)` basiert. Dieser Ansatz wäre theoretisch nützlich, falls unbeobachtete Confounder vorliegen. Die dafür nötigen Annahmen (vollständige Mediation, keine Confounder zwischen `DurchlaufszeitSoll(t)` und `Abweichung (Tage)` sowie zwischen `Abweichung (Tage)` und `Termintreue`) sind jedoch in der Praxis schwer zu garantieren.\n",
    "\n",
    "Da kein geeignetes Instrument (IV) im Modell enthalten ist, entfällt eine Identifikation über IV.\n",
    "\n",
    "→ Für die empirische Umsetzung wird der backdoor-Ansatz verwendet."
   ]
  },
  {
   "cell_type": "code",
   "execution_count": null,
   "id": "dba55b73",
   "metadata": {},
   "outputs": [
    {
     "name": "stdout",
     "output_type": "stream",
     "text": [
      "Estimand type: EstimandType.NONPARAMETRIC_ATE\n",
      "\n",
      "### Estimand : 1\n",
      "Estimand name: backdoor\n",
      "Estimand expression:\n",
      "      d                                \n",
      "──────────────(E[DurchlaufszeitIst(t)])\n",
      "d[Rüstzeit(h)]                         \n",
      "Estimand assumption 1, Unconfoundedness: If U→{Rüstzeit(h)} and U→DurchlaufszeitIst(t) then P(DurchlaufszeitIst(t)|Rüstzeit(h),,U) = P(DurchlaufszeitIst(t)|Rüstzeit(h),)\n",
      "\n",
      "### Estimand : 2\n",
      "Estimand name: iv\n",
      "No such variable(s) found!\n",
      "\n",
      "### Estimand : 3\n",
      "Estimand name: frontdoor\n",
      "Estimand expression:\n",
      " ⎡             d                                          d                    ↪\n",
      "E⎢───────────────────────────(DurchlaufszeitIst(t))⋅──────────────([Rüst-Bearb ↪\n",
      " ⎣d[Rüst-Bearbeitungszeit(h)]                       d[Rüstzeit(h)]             ↪\n",
      "\n",
      "↪                 ⎤\n",
      "↪ eitungszeit(h)])⎥\n",
      "↪                 ⎦\n",
      "Estimand assumption 1, Full-mediation: Rüst-Bearbeitungszeit(h) intercepts (blocks) all directed paths from Rüstzeit(h) to D,u,r,c,h,l,a,u,f,s,z,e,i,t,I,s,t,(,t,).\n",
      "Estimand assumption 2, First-stage-unconfoundedness: If U→{Rüstzeit(h)} and U→{Rüst-Bearbeitungszeit(h)} then P(Rüst-Bearbeitungszeit(h)|Rüstzeit(h),U) = P(Rüst-Bearbeitungszeit(h)|Rüstzeit(h))\n",
      "Estimand assumption 3, Second-stage-unconfoundedness: If U→{Rüst-Bearbeitungszeit(h)} and U→DurchlaufszeitIst(t) then P(DurchlaufszeitIst(t)|Rüst-Bearbeitungszeit(h), Rüstzeit(h), U) = P(DurchlaufszeitIst(t)|Rüst-Bearbeitungszeit(h), Rüstzeit(h))\n",
      "\n"
     ]
    }
   ],
   "source": [
    "# Identifizieren Rüstzeit(h) auf DurchlaufszeitIst(t)\n",
    "estimand = model_Arbeitsgang.identify_effect()\n",
    "print(estimand)"
   ]
  },
  {
   "cell_type": "markdown",
   "id": "d4eaf7d6",
   "metadata": {},
   "source": [
    "### Identifikation: Modell Arbeitsgang\n",
    "\n",
    "Im zweiten Modell wird der kausale Einfluss der `Rüstzeit(h)` auf die tatsächliche Durchlaufzeit eines Arbeitsgangs `DurchlaufszeitIst(t)` untersucht. Auch hier wurde ein **backdoor-Estimand** identifiziert, welcher die Schätzung des durchschnittlichen kausalen Effekts unter der Annahme der Unconfoundedness erlaubt.\n",
    "\n",
    "Zusätzlich wurde ein **frontdoor-Estimand** über die Variable `Rüst-Bearbeitungszeit(h)` erkannt. Dieser Pfad wäre dann nützlich, wenn unbeobachtete Confounder bestehen, die jedoch durch vollständige Mediation und strenge Unabhängigkeitsannahmen kontrollierbar wären. Diese sind in der gegebenen Datengrundlage nicht direkt verifizierbar, weshalb der frontdoor-Weg nur theoretisch berücksichtigt wird.\n",
    "\n",
    "Auch hier konnte kein geeignetes Instrument (IV) im Modell erkannt werden.\n",
    "\n",
    "→ Die Schätzung erfolgt folglich ebenfalls über den identifizierten backdoor-Ansatz.\n"
   ]
  },
  {
   "cell_type": "code",
   "execution_count": 107,
   "id": "223ab5c9",
   "metadata": {},
   "outputs": [],
   "source": [
    "from sklearn.linear_model import LogisticRegression\n",
    "from sklearn.linear_model import Lasso"
   ]
  },
  {
   "cell_type": "code",
   "execution_count": 109,
   "id": "9460b421",
   "metadata": {},
   "outputs": [
    {
     "name": "stdout",
     "output_type": "stream",
     "text": [
      "Estimated effect: 1.4222740084205214\n"
     ]
    }
   ],
   "source": [
    "# Schätzen für Fertigungsaufträge DurchlaufszeitSoll(t) auf Termintreue\n",
    "estimate = model_Fertigungsauftrag.estimate_effect(\n",
    "    estimand,\n",
    "    method_name=\"backdoor.linear_regression\"\n",
    ")\n",
    "print(\"Estimated effect:\", estimate.value)"
   ]
  },
  {
   "cell_type": "markdown",
   "id": "67edd6b2",
   "metadata": {},
   "source": [
    "### Schätzung: Modell Fertigungsauftrag\n",
    "Eine Erhöhung der geplanten Soll-Durchlaufzeit um eine Einheit (z.B. 1 Tag) ist mit einem durchschnittlichen Anstieg des Zielwerts `Termintreue` um etwa **1.42** Einheiten assoziiert. Da `Termintreue` als binäre Variable kodiert ist, übersteigt dieser Effekt formal die zulässige Skalenbreite **[0,1]** und darf nicht als absolute Wahrscheinlichkeitsveränderung interpretiert werden. Vielmehr ist der Wert als Richtungsindikator innerhalb eines approximativen linearen Modells zu verstehen, das kausale Zusammenhänge unter realweltlich begrenzten Datenbedingungen abschätzt.\n",
    "\n",
    "Alternative Ansätze wie eine generalisierte lineare Regression (z.B. Logit-Modell) oder EconML-Bibliothek Alternativen wurden im Verlauf geprüft, konnten jedoch aufgrund technischer Inkompatibilität oder unzureichender Klassenverteilung im Datensatz nicht zuverlässig umgesetzt werden. Die gewählte lineare Regression stellt daher eine pragmatische Schätzstrategie dar, die im Rahmen des verfügbaren Frameworks eine interpretierbare, wenn auch begrenzt generalisierbare, Näherung kausaler Effekte erlaubt.\n",
    "\n"
   ]
  },
  {
   "cell_type": "code",
   "execution_count": 106,
   "id": "04afe3a0",
   "metadata": {},
   "outputs": [
    {
     "name": "stdout",
     "output_type": "stream",
     "text": [
      "Estimated effect: 0.9760294229369\n"
     ]
    }
   ],
   "source": [
    "# Schätzen für Arbeitsgänge Rüstzeit(h) auf DurchlaufszeitIst(t)\n",
    "estimate = model_Arbeitsgang.estimate_effect(\n",
    "    estimand,\n",
    "    method_name=\"backdoor.linear_regression\"\n",
    ")\n",
    "\n",
    "# Interpretation:\n",
    "# Ein negativer Effektwert bedeutet, dass eine längere Soll-Durchlaufzeit tendenziell mit schlechterer Termintreue assoziiert ist.\n",
    "print(\"Estimated effect:\", estimate.value)"
   ]
  },
  {
   "cell_type": "markdown",
   "id": "97ae1626",
   "metadata": {},
   "source": [
    "### Schätzung: Modell Arbeitsgang\n",
    "\n",
    "Der geschätzte kausale Effektwert für den Zusammenhang zwischen `Rüstzeit(h)` und `DurchlaufszeitIst(t)` beträgt **0.976**. Dies bedeutet, dass eine zusätzliche Stunde Rüstzeit im Mittel zu einer fast gleich grossen Verlängerung der tatsächlichen Durchlaufzeit eines Arbeitsgangs führt.\n",
    "\n",
    "Die Stärke und Richtung des Effekts decken sich mit der fachlichen Erwartung aus dem Domänenwissen und stützen die Annahme, dass Rüstzeiten einen direkten und relevanten Einfluss auf die Effizienz einzelner Fertigungsschritte haben. Der nahezu lineare Zusammenhang legt nahe, dass potenzielle Reduktionen der Rüstzeit direkt zur Beschleunigung von Arbeitsprozessen beitragen könnten.\n",
    "\n",
    "Da sowohl Treatment als auch Outcome metrisch skaliert sind, ist der Einsatz eines linearen Regressionsmodells in diesem Fall methodisch angemessen."
   ]
  },
  {
   "cell_type": "markdown",
   "id": "a9b563ce",
   "metadata": {},
   "source": [
    "### 4 Robustheitsprüfung mittels Refutation\n",
    "\n",
    "Zur Bewertung der Stabilität und Aussagekraft des geschätzten kausalen Effekts wurde eine Refutation-Analyse durchgeführt. Dabei prüft DoWhy mit verschiedenen Verfahren, ob der geschätzte Effekt auch unter gezielten Störungen oder Alternativannahmen bestehen bleibt. In dieser Analyse wurden drei unterschiedliche Refuter eingesetzt:\n",
    "\n",
    "- **Placebo-Treatment-Refuter:** Prüft ob ein Effekt auch dann gefunden wird, wenn eine zufällige (irrelevante) Variable als Treatment eingesetzt wird.\n",
    "- **Random-Common-Cause-Refuter:** Prüft die Sensitivität gegenüber unbeobachteten Confoundern durch künstliches hinzuzufügen einer potenzielle Störvariable.\n",
    "- **Data-Subset-Refuter:** Prüft, ob der Effekt auch in zufällig gezogenen Teilmengen des Datensatzes stabil bleibt.\n",
    "\n",
    "**Hinweis:** Die in den jeweiligen Markdowns referenzierten Effektwerte können sich bei wiederholter Ausführung des Notebooks oder durch minimale Datenänderungen leicht unterscheiden. Diese Abweichungen sind methodisch unkritisch, solange sich die Richtung und Relationen der Effekte nicht substantiell verändern."
   ]
  },
  {
   "cell_type": "code",
   "execution_count": 73,
   "id": "b63db979",
   "metadata": {},
   "outputs": [
    {
     "name": "stdout",
     "output_type": "stream",
     "text": [
      "Fertigungsauftrag Refute: Use a Placebo Treatment\n",
      "Estimated effect:0.9760294229369\n",
      "New effect:0.03609887476330594\n",
      "p value:0.78\n",
      "\n",
      "Arbeitsgang Refute: Use a Placebo Treatment\n",
      "Estimated effect:0.9760294229369\n",
      "New effect:0.04740665294373811\n",
      "p value:0.6599999999999999\n",
      "\n"
     ]
    }
   ],
   "source": [
    "# Refuter 1:    Placebo-Test\n",
    "refuteF1 = model_Fertigungsauftrag.refute_estimate(\n",
    "    estimand, estimate,\n",
    "    method_name=\"placebo_treatment_refuter\",\n",
    "    placebo_type=\"permute\"\n",
    ")\n",
    "print(\"Fertigungsauftrag\", refuteF1)\n",
    "\n",
    "refuteA1 = model_Arbeitsgang.refute_estimate(\n",
    "    estimand, estimate,\n",
    "    method_name=\"placebo_treatment_refuter\",\n",
    "    placebo_type=\"permute\"\n",
    ")\n",
    "print(\"Arbeitsgang\", refuteA1)"
   ]
  },
  {
   "cell_type": "markdown",
   "id": "3130e9be",
   "metadata": {},
   "source": [
    "### Robustheitsprüfung: Placebo-Test (Refuter)\n",
    "\n",
    "Im Modell Fertigungsauftrag (`DurchlaufszeitSoll(t)` → `Termintreue`) reduzierte sich der Effektwert von 0.976 auf 0.036. Der zugehörige p-Wert von 0.78 gibt an, wie wahrscheinlich ein solcher Unterschied unter der Annahme ist, dass kein kausaler Zusammenhang besteht. Da der p-Wert deutlich über dem typischen Signifikanzniveau von 0.05 liegt, kann die Nullhypothese (kein Effekt) im Placebo-Fall nicht verworfen werden  was die Plausibilität des ursprünglichen Effekts stützt.\n",
    "\n",
    "Im Modell Arbeitsgang (`Rüstzeit(h)` → `DurchlaufszeitIst(t)`) sank der Effekt unter Placebo auf 0.047 bei einem p-Wert von 0.66. Auch hier spricht die hohe p-Wahrscheinlichkeit gegen einen zufallsbedingten Scheinzusammenhang. Beide Tests deuten somit auf eine **robuste kausale Struktur** im ursprünglichen Modell hin.\n"
   ]
  },
  {
   "cell_type": "code",
   "execution_count": 74,
   "id": "c5f54bbd",
   "metadata": {},
   "outputs": [
    {
     "name": "stdout",
     "output_type": "stream",
     "text": [
      "Fertigungsauftrag Refute: Add a random common cause\n",
      "Estimated effect:0.9760294229369\n",
      "New effect:0.9762119402395534\n",
      "p value:0.8999999999999999\n",
      "\n",
      "Arbeitsgang Refute: Add a random common cause\n",
      "Estimated effect:0.9760294229369\n",
      "New effect:0.9755106495754\n",
      "p value:0.78\n",
      "\n"
     ]
    }
   ],
   "source": [
    "# Refuter 2:    Random common cause \n",
    "refuteF2 = model_Fertigungsauftrag.refute_estimate(\n",
    "    estimand, estimate,\n",
    "    method_name=\"random_common_cause\"\n",
    ")\n",
    "print(\"Fertigungsauftrag\", refuteF2)\n",
    "\n",
    "refuteA2 = model_Arbeitsgang.refute_estimate(\n",
    "    estimand, estimate,\n",
    "    method_name=\"random_common_cause\"\n",
    ")\n",
    "print(\"Arbeitsgang\", refuteA2)"
   ]
  },
  {
   "cell_type": "markdown",
   "id": "11b4bab8",
   "metadata": {},
   "source": [
    "### Robustheitsprüfung: Zufälliger Confounder (Random Common Cause)\n",
    "\n",
    "Im Modell Fertigungsauftrag (`DurchlaufszeitSoll(t)` → `Termintreue`) blieb der geschätzte Effekt praktisch unverändert (von 0.976 auf 0.9762), mit einem p-Wert von 0.90. Dies spricht gegen eine strukturelle Instabilität des Modells gegenüber unbeobachteten Einflussgrössen.\n",
    "\n",
    "Auch im Modell Arbeitsgang (`Rüstzeit(h)` → `DurchlaufszeitIst(t)`) ergab sich nur eine minimale Abweichung (von 0.976 auf 0.9755, p = 0.78). Beide Ergebnisse stützen die Aussage, dass die kausalen Schätzungen robust gegenüber zufälligen, modellfremden Störungen sind.\n"
   ]
  },
  {
   "cell_type": "code",
   "execution_count": 75,
   "id": "5d51adc7",
   "metadata": {},
   "outputs": [
    {
     "name": "stdout",
     "output_type": "stream",
     "text": [
      "Fertigungsauftrag Refute: Use a subset of data\n",
      "Estimated effect:0.9760294229369\n",
      "New effect:0.994373137336322\n",
      "p value:1.0\n",
      "\n",
      "Refute: Use a subset of data\n",
      "Estimated effect:0.9760294229369\n",
      "New effect:0.992805928744778\n",
      "p value:0.98\n",
      "\n"
     ]
    }
   ],
   "source": [
    "# Refuter 3: Data subset refuter \n",
    "refuteF3 = model_Fertigungsauftrag.refute_estimate(\n",
    "    estimand, estimate,\n",
    "    method_name=\"data_subset_refuter\"\n",
    ")\n",
    "print(\"Fertigungsauftrag\", refuteF3)\n",
    "\n",
    "refuteA3 = model_Arbeitsgang.refute_estimate(\n",
    "    estimand, estimate,\n",
    "    method_name=\"data_subset_refuter\"\n",
    ")\n",
    "print(refuteA3)"
   ]
  },
  {
   "cell_type": "markdown",
   "id": "03966db3",
   "metadata": {},
   "source": [
    "### Robustheitsprüfung: Teildatenanalyse (Data Subset Refuter)\n",
    "\n",
    "Im Modell Fertigungsauftrag (`DurchlaufszeitSoll(t)` → `Termintreue`) blieb der Effekt mit 0.994 nahezu unverändert im Vergleich zum Ursprungswert von 0.976. Der p-Wert von 1.0 bestätigt die Stabilität.\n",
    "\n",
    "Auch im Modell Arbeitsgang (`Rüstzeit(h)` → `DurchlaufszeitIst(t)`) ergab sich eine minimale Abweichung (0.993 vs. 0.976, p = 0.98). Beide Modelle zeigen sich somit robust gegenüber zufälliger Teilstichprobenbildung.\n"
   ]
  },
  {
   "cell_type": "markdown",
   "id": "93125348",
   "metadata": {},
   "source": [
    "### 5) Zusammenfassung: Kausale Analyse und Modellvalidierung\n",
    "\n",
    "In diesem Notebook wurde ein konzeptionell und empirisch fundiertes kausales Analyseverfahren umgesetzt, das auf einem zuvor entwickelten Strukturmodell (DAG) basiert. Ziel war es, zentrale Hypothesen zur Wirkung operativer Prozessfaktoren auf die Termintreue und Durchlaufzeit in einem realen Produktionskontext zu überprüfen.\n",
    "\n",
    "Ausgehend von zwei Teilmodellen, einem auf Fertigungsauftragsebene (`DurchlaufszeitSoll(t)` auf `Termintreue`) und einem auf Arbeitsgangebene (`Rüstzeit(h)` auf `DurchlaufszeitIst(t)`), wurden mithilfe des DoWhy-Frameworks kausale Effekte identifiziert, geschätzt und auf ihre Robustheit hin geprüft. Die Schätzungen basierten auf einem validierten Datensatz, der unter Berücksichtigung von Datenverfügbarkeit, Prozesslogik und Modellstruktur manuell aus Teilsystemen zusammengestellt wurde.\n",
    "\n",
    "Die Schätzung des kausalen Effekts erfolgte über lineare Regressionsmethoden, da alternative Verfahren wie logistische Regression aufgrund technischer Einschränkungen oder begrenzter Datenlage nicht zuverlässig integriert werden konnten. Die Effektwerte waren interpretierbar und deckten sich in ihrer Richtung teilweise mit domänenspezifischen Erwartungen oder gaben Anlass zu reflektierten Gegenhypothesen.\n",
    "\n",
    "Die anschliessende Refutation-Analyse umfasste drei Testverfahren (Placebo-Treatment, Random Common Cause, Data Subset), welche zeigten, dass die beobachteten Effekte gegenüber zufälligen Störungen, hypothetischen Confoundern und Teilmengen der Daten stabil blieben. Die hohen p-Werte und geringen Effektabweichungen belegen die methodische Robustheit der Modelle.\n",
    "\n",
    "Insgesamt liefert die Analyse eine nachvollziehbare und transparente Umsetzung eines kausalen Denkmodells mit DoWhy, das sowohl konzeptionell-theoretische als auch datenpraktische Herausforderungen im Kontext industrieller Entscheidungsprozesse berücksichtigt."
   ]
  }
 ],
 "metadata": {
  "kernelspec": {
   "display_name": ".venv",
   "language": "python",
   "name": "python3"
  },
  "language_info": {
   "codemirror_mode": {
    "name": "ipython",
    "version": 3
   },
   "file_extension": ".py",
   "mimetype": "text/x-python",
   "name": "python",
   "nbconvert_exporter": "python",
   "pygments_lexer": "ipython3",
   "version": "3.12.1"
  }
 },
 "nbformat": 4,
 "nbformat_minor": 5
}
