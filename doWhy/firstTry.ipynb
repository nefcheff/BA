{
 "cells": [
  {
   "cell_type": "code",
   "execution_count": 8,
   "id": "dc4c0877",
   "metadata": {},
   "outputs": [],
   "source": [
    "import pandas as pd\n",
    "import numpy as np\n",
    "import networkx as nx\n",
    "from dowhy import CausalModel\n",
    "from dowhy import gcm\n",
    "import matplotlib.pyplot as plt"
   ]
  },
  {
   "cell_type": "code",
   "execution_count": null,
   "id": "f5044d5b",
   "metadata": {},
   "outputs": [],
   "source": [
    "model = CausalModel(\n",
    "    data=data[\"df\"],\n",
    "    treatment=data[\"treatment_name\"],\n",
    "    outcome=data[\"outcome_name\"],\n",
    "    graph=data[\"gml_graph\"])"
   ]
  },
  {
   "cell_type": "code",
   "execution_count": 11,
   "id": "55d1beb7",
   "metadata": {},
   "outputs": [],
   "source": [
    "path_validationSyntethic = r\"..\\syntheticData\\RealDataSource\\validationSynthetic.xlsx\"\n",
    "\n",
    "data = pd.read_excel(path_validationSyntethic)"
   ]
  },
  {
   "cell_type": "code",
   "execution_count": 12,
   "id": "a414dae7",
   "metadata": {},
   "outputs": [
    {
     "data": {
      "text/plain": [
       "<dowhy.gcm.auto.AutoAssignmentSummary at 0x1c4fa2ffec0>"
      ]
     },
     "execution_count": 12,
     "metadata": {},
     "output_type": "execute_result"
    }
   ],
   "source": [
    "causal_model = gcm.StructuralCausalModel(nx.DiGraph([('Setup Zeit(h)', 'Setup&Runtime Zeit (h)'), ('Run Zeit(h)', 'Setup&Runtime Zeit (h)'), ('Setup&Runtime Zeit (h)', 'Durchlauf Zeit (t)'), ('Puffer', 'Durchlauf Zeit (t)'), ('Puffer', 'DurchlaufszeitTageSoll')]))\n",
    "gcm.auto.assign_causal_mechanisms(causal_model, data)"
   ]
  },
  {
   "cell_type": "code",
   "execution_count": 13,
   "id": "1a6e703c",
   "metadata": {},
   "outputs": [
    {
     "name": "stderr",
     "output_type": "stream",
     "text": [
      "Fitting causal mechanism of node DurchlaufszeitTageSoll: 100%|██████████| 6/6 [00:00<00:00, 314.52it/s]\n"
     ]
    }
   ],
   "source": [
    "gcm.fit(causal_model, data)"
   ]
  },
  {
   "cell_type": "code",
   "execution_count": null,
   "id": "b27c6508",
   "metadata": {},
   "outputs": [],
   "source": [
    "anomaly_attribution = gcm.attribute_anomalies(causal_model, \"Z\", anomalous_sample)"
   ]
  }
 ],
 "metadata": {
  "kernelspec": {
   "display_name": ".venv",
   "language": "python",
   "name": "python3"
  },
  "language_info": {
   "codemirror_mode": {
    "name": "ipython",
    "version": 3
   },
   "file_extension": ".py",
   "mimetype": "text/x-python",
   "name": "python",
   "nbconvert_exporter": "python",
   "pygments_lexer": "ipython3",
   "version": "3.12.1"
  }
 },
 "nbformat": 4,
 "nbformat_minor": 5
}
